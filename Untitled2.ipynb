{
  "nbformat": 4,
  "nbformat_minor": 0,
  "metadata": {
    "colab": {
      "name": "Untitled2.ipynb",
      "provenance": [],
      "collapsed_sections": []
    },
    "kernelspec": {
      "name": "python3",
      "display_name": "Python 3"
    }
  },
  "cells": [
    {
      "cell_type": "code",
      "metadata": {
        "id": "4Qjzi_2N8CZO",
        "colab_type": "code",
        "colab": {}
      },
      "source": [
        ""
      ],
      "execution_count": 0,
      "outputs": []
    },
    {
      "cell_type": "markdown",
      "metadata": {
        "id": "-ZrfiQEL8IgA",
        "colab_type": "text"
      },
      "source": [
        "I am trying to make a poker playing bot. I will try to make it play near game theory optimal poker, but this is not possible in reality since you will never perfectly know what your opponents range is therefore the math will never be perfect. I have to figure out how to download hands and use the text files by reading them for a training database. The training might take too much time, but I can build all the functions and see if they work or not. "
      ]
    },
    {
      "cell_type": "markdown",
      "metadata": {
        "id": "X0116x_e8b1Q",
        "colab_type": "text"
      },
      "source": [
        "Potential things to figure out that I know of \n",
        "1. Find the opponents range \n",
        "2. player type\n",
        "3. VPIP\n",
        "4. 3/4/5/6 bet percentages\n",
        "5. Fold equity\n",
        "6. Showdown value\n",
        "7. implied odds\n",
        "8. reverse implied odds\n",
        "9. pot odds\n",
        "10. minimum defense frequency\n",
        "11. C- bet frequency \n",
        "12. Bet sizing\n",
        "13. Pre flop raise\n",
        "\n",
        "\n",
        "Do I play perfectly balanced between good and bad hands? "
      ]
    },
    {
      "cell_type": "code",
      "metadata": {
        "id": "tQvR0ZSY8ZjS",
        "colab_type": "code",
        "colab": {}
      },
      "source": [
        "spaghetti code functions\n",
        "def find opponents range:\n",
        "  do a k nearest neighbors to find the nearest players and hands\n",
        "\n",
        "def player type :\n",
        "  calculate all the poker statistics\n",
        "\n",
        "def rank value of current hand :\n",
        "  calculate positional value\n",
        "  calculate positional value and see what player/players are in the pot or next to act\n",
        "  calculate if worth playing or not \n",
        "\n",
        "def bet size :\n",
        "  see which optimal bet size will work best in the situation\n",
        "\n",
        "def call or fold  or raise\n",
        "  calculate whether to call or fold given the math and player values \n",
        "\n",
        "def rank value of hand\n",
        "  calculate strength of hand on flop\n",
        "  calculate rank of hand relative to previous betting action \n",
        "  calculate rank of hand relative to players - loose or tight\n",
        "\n",
        "def bet size :\n",
        "  calculate all the perfectly GTO math strategies and follow a monte carlo simulation to where the opponent has the least opportunity to win \n",
        "  do this for different bet sizings - each bet size will have different GTO math strategies and thus it is impossible to calculate the actual optimal value\n",
        "  this is because there are different bet sizings possible and the opponents current holdings are unknown and the guessing involved skews the accuracy\n",
        "\n",
        "def risk taking amount :\n",
        "  there are sometimes where the GTO play wouldn't always be the best such as when playing maximally exploitative works the best\n",
        "  in this sense no one will be able to calculate a game theory optimal calculation in their hand and apparently not even with a smart phone because it takes too much calculation\n",
        "  at least in the sense of in a real poker game it would be too slow. \n",
        "  So maximally exploitative works when you know that someone will fold way too often. This makes sense because game theory optimal calculations involve essentially assuming that the other\n",
        "  player is playing perfect game theory optimal math poker also and thus won't be beatable. That is why the calculations take so long because it is all about finding the tiniest of edges\n",
        "  since each 'player' is essentially playing perfect in the simulation to calculate what to do. When you play perfect relative to their perfect and then they make a mistake then you\n",
        "  won't lose because your math is essentially losing the least as if they were playing perfect math but since they are not then losing the least turns into winning every time they make a mistake. \n",
        "  \n"
      ],
      "execution_count": 0,
      "outputs": []
    }
  ]
}